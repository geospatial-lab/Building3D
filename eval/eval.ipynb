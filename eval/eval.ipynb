{
 "cells": [
  {
   "cell_type": "code",
   "execution_count": 37,
   "metadata": {
    "collapsed": true,
    "ExecuteTime": {
     "start_time": "2023-08-15T17:22:08.085392Z",
     "end_time": "2023-08-15T17:22:08.878105Z"
    }
   },
   "outputs": [],
   "source": [
    "import os\n",
    "import numpy as np\n",
    "import torch"
   ]
  },
  {
   "cell_type": "code",
   "execution_count": 34,
   "outputs": [
    {
     "name": "stdout",
     "output_type": "stream",
     "text": [
      "2 1 5\n",
      "Precision: 0.6666666666666666\n",
      "Recall: 0.2857142857142857\n"
     ]
    }
   ],
   "source": [
    "def calculate_precision_recall(predicted_labels, true_labels):\n",
    "    predicted_set = set(tuple(pair) for pair in predicted_labels)\n",
    "    true_set = set(tuple(pair) for pair in true_labels)\n",
    "\n",
    "    TP = len(predicted_set.intersection(true_set))\n",
    "    FP = len(predicted_set - true_set)\n",
    "    FN = len(true_set - predicted_set)\n",
    "    print(TP, FP, FN)\n",
    "\n",
    "    precision = TP / (TP + FP) if TP + FP > 0 else 0\n",
    "    recall = TP / (TP + FN) if TP + FN > 0 else 0\n",
    "\n",
    "    return precision, recall\n",
    "\n",
    "# 示例预测和标注的标签对\n",
    "predicted_labels = [[0, 1], [1, 2], [2, 3]]\n",
    "true_labels = [[0, 1], [2, 3], [1, 4], [3, 4], [4, 5],[2, 4], [1, 3]]\n",
    "\n",
    "# 计算 Precision 和 Recall\n",
    "precision, recall = calculate_precision_recall(predicted_labels, true_labels)\n",
    "\n",
    "print(\"Precision:\", precision)\n",
    "print(\"Recall:\", recall)\n"
   ],
   "metadata": {
    "collapsed": false
   }
  },
  {
   "cell_type": "code",
   "execution_count": 47,
   "outputs": [
    {
     "name": "stdout",
     "output_type": "stream",
     "text": [
      "[ True  True  True  True  True  True  True False False]\n",
      "[0, 1]\n"
     ]
    },
    {
     "ename": "TypeError",
     "evalue": "only integer scalar arrays can be converted to a scalar index",
     "output_type": "error",
     "traceback": [
      "\u001B[1;31m---------------------------------------------------------------------------\u001B[0m",
      "\u001B[1;31mTypeError\u001B[0m                                 Traceback (most recent call last)",
      "\u001B[1;32mC:\\Users\\SHANGF~1\\AppData\\Local\\Temp/ipykernel_24600/2417715441.py\u001B[0m in \u001B[0;36m<module>\u001B[1;34m\u001B[0m\n\u001B[0;32m      4\u001B[0m \u001B[0mprint\u001B[0m\u001B[1;33m(\u001B[0m\u001B[0mnp\u001B[0m\u001B[1;33m.\u001B[0m\u001B[0msum\u001B[0m\u001B[1;33m(\u001B[0m\u001B[0mtrue_labels\u001B[0m\u001B[1;33m,\u001B[0m \u001B[1;33m-\u001B[0m\u001B[1;36m1\u001B[0m\u001B[1;33m,\u001B[0m \u001B[0mkeepdims\u001B[0m\u001B[1;33m=\u001B[0m\u001B[1;32mFalse\u001B[0m\u001B[1;33m)\u001B[0m \u001B[1;33m>\u001B[0m \u001B[1;36m0\u001B[0m\u001B[1;33m)\u001B[0m\u001B[1;33m\u001B[0m\u001B[1;33m\u001B[0m\u001B[0m\n\u001B[0;32m      5\u001B[0m \u001B[0mprint\u001B[0m\u001B[1;33m(\u001B[0m\u001B[0mtrue_labels\u001B[0m\u001B[1;33m[\u001B[0m\u001B[1;36m0\u001B[0m\u001B[1;33m]\u001B[0m\u001B[1;33m)\u001B[0m\u001B[1;33m\u001B[0m\u001B[1;33m\u001B[0m\u001B[0m\n\u001B[1;32m----> 6\u001B[1;33m \u001B[0mtrue_labels\u001B[0m \u001B[1;33m=\u001B[0m \u001B[0mtrue_labels\u001B[0m\u001B[1;33m[\u001B[0m\u001B[0mnp\u001B[0m\u001B[1;33m.\u001B[0m\u001B[0msum\u001B[0m\u001B[1;33m(\u001B[0m\u001B[0mtrue_labels\u001B[0m\u001B[1;33m,\u001B[0m \u001B[1;33m-\u001B[0m\u001B[1;36m1\u001B[0m\u001B[1;33m,\u001B[0m \u001B[0mkeepdims\u001B[0m\u001B[1;33m=\u001B[0m\u001B[1;32mFalse\u001B[0m\u001B[1;33m)\u001B[0m \u001B[1;33m>\u001B[0m \u001B[1;36m0\u001B[0m\u001B[1;33m]\u001B[0m\u001B[1;33m\u001B[0m\u001B[1;33m\u001B[0m\u001B[0m\n\u001B[0m\u001B[0;32m      7\u001B[0m \u001B[1;33m\u001B[0m\u001B[0m\n\u001B[0;32m      8\u001B[0m \u001B[0mTP_edges\u001B[0m \u001B[1;33m=\u001B[0m \u001B[0mnp\u001B[0m\u001B[1;33m.\u001B[0m\u001B[0msum\u001B[0m\u001B[1;33m(\u001B[0m\u001B[1;33m[\u001B[0m\u001B[0me\u001B[0m \u001B[1;32min\u001B[0m \u001B[0mtrue_labels\u001B[0m \u001B[1;32mfor\u001B[0m \u001B[0me\u001B[0m \u001B[1;32min\u001B[0m \u001B[0mpredicted_labels\u001B[0m\u001B[1;33m]\u001B[0m\u001B[1;33m)\u001B[0m\u001B[1;33m\u001B[0m\u001B[1;33m\u001B[0m\u001B[0m\n",
      "\u001B[1;31mTypeError\u001B[0m: only integer scalar arrays can be converted to a scalar index"
     ]
    }
   ],
   "source": [
    "predicted_labels = [[0, 1], [1, 2], [2, 3]]\n",
    "true_labels = [[0, 1], [2, 3], [1, 4], [3, 4], [4, 5],[2, 4], [1, 3], [-1, -1], [-1, -1]]\n",
    "\n",
    "print(np.sum(true_labels, -1, keepdims=False) > 0)\n",
    "print(true_labels[0])\n",
    "true_labels = true_labels[np.sum(true_labels, -1, keepdims=False) > 0]\n",
    "\n",
    "TP_edges = np.sum([e in true_labels for e in predicted_labels])\n",
    "TP_FP = len(predicted_labels)\n",
    "TP_FN = len(true_labels)\n",
    "precision = TP_edges / TP_FP\n",
    "recall = TP_edges / TP_FN\n",
    "# print([e in true_labels for e in predicted_labels])\n",
    "\n",
    "# 计算 Precision 和 Recall\n",
    "# precision, recall = calculate_precision_recall(predicted_labels, true_labels)\n",
    "\n",
    "print(\"Precision:\", precision)\n",
    "print(\"Recall:\", recall)"
   ],
   "metadata": {
    "collapsed": false,
    "pycharm": {
     "name": "#%%\n"
    }
   }
  },
  {
   "cell_type": "code",
   "execution_count": 3,
   "outputs": [
    {
     "name": "stdout",
     "output_type": "stream",
     "text": [
      "Row indices: [0 1 2]\n",
      "Column indices: [1 0 2]\n"
     ]
    }
   ],
   "source": [
    "import numpy as np\n",
    "from scipy.optimize import linear_sum_assignment\n",
    "\n",
    "# 创建一个随机的权重矩阵\n",
    "cost_matrix = np.array([[4, 1, 3],\n",
    "                        [2, 0, 5],\n",
    "                        [3, 2, 2]])\n",
    "\n",
    "# 使用 linear_sum_assignment 求解最小权重匹配问题\n",
    "row_indices, col_indices = linear_sum_assignment(cost_matrix)\n",
    "\n",
    "print(\"Row indices:\", row_indices)\n",
    "print(\"Column indices:\", col_indices)\n"
   ],
   "metadata": {
    "collapsed": false,
    "ExecuteTime": {
     "start_time": "2023-08-17T18:03:45.580189Z",
     "end_time": "2023-08-17T18:03:45.881385Z"
    }
   }
  },
  {
   "cell_type": "code",
   "execution_count": 28,
   "outputs": [
    {
     "name": "stdout",
     "output_type": "stream",
     "text": [
      "[[1.73205081 5.74456265]\n",
      " [8.66025404 5.74456265]\n",
      " [4.12310563 3.31662479]\n",
      " [8.66025404 5.74456265]]\n",
      "[0 2] [0 1]\n",
      "[1.73205081 3.31662479]\n",
      "[ True  True]\n",
      "[0 2] [0 1]\n",
      "[[1 2 3]\n",
      " [4 5 1]]\n"
     ]
    }
   ],
   "source": [
    "import numpy as np\n",
    "from scipy.spatial.distance import cdist\n",
    "\n",
    "# Two sets of points with different lengths\n",
    "point_set1 = np.array([[1, 2, 3], [7, 8, 9], [4, 5, 1], [7, 8, 9]])\n",
    "point_set2 = np.array([[2, 3, 4], [5, 6, 4]])\n",
    "\n",
    "# Calculate the distance matrix\n",
    "distance_matrix = cdist(point_set1, point_set2)\n",
    "\n",
    "print(distance_matrix)\n",
    "row_indices, col_indices = linear_sum_assignment(distance_matrix)\n",
    "print(row_indices, col_indices)\n",
    "mask = distance_matrix[row_indices, col_indices]\n",
    "print(mask)\n",
    "print(mask < 6)\n",
    "mask = mask < 6\n",
    "print(row_indices[mask], col_indices[mask])\n",
    "print(point_set1[row_indices[mask]])"
   ],
   "metadata": {
    "collapsed": false,
    "ExecuteTime": {
     "start_time": "2023-08-17T18:38:30.532945Z",
     "end_time": "2023-08-17T18:38:30.546997Z"
    }
   }
  },
  {
   "cell_type": "code",
   "execution_count": 23,
   "outputs": [
    {
     "name": "stdout",
     "output_type": "stream",
     "text": [
      "[ True False]\n"
     ]
    }
   ],
   "source": [
    "print(mask)"
   ],
   "metadata": {
    "collapsed": false,
    "ExecuteTime": {
     "start_time": "2023-08-17T18:32:45.259557Z",
     "end_time": "2023-08-17T18:32:45.272228Z"
    }
   }
  },
  {
   "cell_type": "code",
   "execution_count": null,
   "outputs": [],
   "source": [],
   "metadata": {
    "collapsed": false
   }
  }
 ],
 "metadata": {
  "kernelspec": {
   "display_name": "Python 3",
   "language": "python",
   "name": "python3"
  },
  "language_info": {
   "codemirror_mode": {
    "name": "ipython",
    "version": 2
   },
   "file_extension": ".py",
   "mimetype": "text/x-python",
   "name": "python",
   "nbconvert_exporter": "python",
   "pygments_lexer": "ipython2",
   "version": "2.7.6"
  }
 },
 "nbformat": 4,
 "nbformat_minor": 0
}
