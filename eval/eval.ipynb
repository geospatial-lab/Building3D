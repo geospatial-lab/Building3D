{
 "cells": [
  {
   "cell_type": "code",
   "execution_count": 1,
   "metadata": {
    "collapsed": true,
    "ExecuteTime": {
     "start_time": "2023-08-19T00:35:06.984269Z",
     "end_time": "2023-08-19T00:35:07.547976Z"
    }
   },
   "outputs": [],
   "source": [
    "import os\n",
    "import numpy as np\n",
    "import torch"
   ]
  },
  {
   "cell_type": "code",
   "execution_count": 3,
   "outputs": [
    {
     "name": "stdout",
     "output_type": "stream",
     "text": [
      "[ True  True  True  True  True  True  True False False]\n",
      "[[0 1]\n",
      " [2 2]\n",
      " [1 2]\n",
      " [3 4]\n",
      " [4 5]\n",
      " [2 4]\n",
      " [1 3]]\n",
      "2\n",
      "[0 1]\n",
      "[1 2]\n",
      "Precision: 0.6666666666666666\n",
      "Recall: 0.2857142857142857\n"
     ]
    }
   ],
   "source": [
    "predicted_labels = np.array([[0, 1], [1, 2], [2, 5]])\n",
    "true_labels = np.array([[0, 1], [2, 2], [1, 2], [3, 4], [4, 5],[2, 4], [1, 3], [-1, -1], [-1, -1]])\n",
    "\n",
    "print(np.sum(true_labels, -1, keepdims=False) >= 0)\n",
    "# print(true_labels[0])\n",
    "true_labels = true_labels[np.sum(true_labels, -1, keepdims=False) > 0]\n",
    "\n",
    "print(true_labels)\n",
    "\n",
    "TP_edges = np.sum([np.any(np.all(e == true_labels, axis=1)) for e in predicted_labels])\n",
    "TP_FP = len(predicted_labels)\n",
    "TP_FN = len(true_labels)\n",
    "precision = TP_edges / TP_FP\n",
    "recall = TP_edges / TP_FN\n",
    "print(TP_edges)\n",
    "for e in predicted_labels:\n",
    "    if np.any(np.all(e == true_labels, axis=1)):\n",
    "        print(e)\n",
    "# print([e in true_labels for e in predicted_labels])\n",
    "\n",
    "# 计算 Precision 和 Recall\n",
    "# precision, recall = calculate_precision_recall(predicted_labels, true_labels)\n",
    "\n",
    "print(\"Precision:\", precision)\n",
    "print(\"Recall:\", recall)"
   ],
   "metadata": {
    "collapsed": false,
    "ExecuteTime": {
     "start_time": "2023-08-19T00:35:07.564499Z",
     "end_time": "2023-08-19T00:35:07.606417Z"
    }
   }
  },
  {
   "cell_type": "code",
   "execution_count": 4,
   "outputs": [
    {
     "name": "stdout",
     "output_type": "stream",
     "text": [
      "Row indices: [0 1 2]\n",
      "Column indices: [1 0 2]\n"
     ]
    }
   ],
   "source": [
    "import numpy as np\n",
    "from scipy.optimize import linear_sum_assignment\n",
    "\n",
    "# 创建一个随机的权重矩阵\n",
    "cost_matrix = np.array([[4, 1, 3],\n",
    "                        [2, 0, 5],\n",
    "                        [3, 2, 2]])\n",
    "\n",
    "# 使用 linear_sum_assignment 求解最小权重匹配问题\n",
    "row_indices, col_indices = linear_sum_assignment(cost_matrix)\n",
    "\n",
    "print(\"Row indices:\", row_indices)\n",
    "print(\"Column indices:\", col_indices)\n"
   ],
   "metadata": {
    "collapsed": false,
    "ExecuteTime": {
     "start_time": "2023-08-19T00:35:07.579760Z",
     "end_time": "2023-08-19T00:35:07.764264Z"
    }
   }
  },
  {
   "cell_type": "code",
   "execution_count": 5,
   "outputs": [
    {
     "name": "stdout",
     "output_type": "stream",
     "text": [
      "[[8.66025404 5.74456265 1.73205081]\n",
      " [4.12310563 3.31662479 7.54983444]\n",
      " [3.60555128 3.60555128 7.28010989]\n",
      " [1.41421356 5.65685425 8.1240384 ]]\n",
      "[0 1 3] [2 1 0]\n",
      "[ True  True  True]\n",
      "{0: 2, 1: 1, 3: 0}\n",
      "[[ 1  2]\n",
      " [ 0  2]\n",
      " [-1  1]]\n",
      "Precision: 0.6666666666666666\n",
      "Recall: 0.2857142857142857\n",
      "\n",
      "corners Precision: 0.75\n",
      "corners Recall: 1.0\n"
     ]
    }
   ],
   "source": [
    "import numpy as np\n",
    "from scipy.spatial.distance import cdist\n",
    "\n",
    "# Two sets of points with different lengths\n",
    "point_set1 = np.array([[1, 2, 3], [7, 8, 9], [4, 5, 1], [7, 8, 9], [5,3,2], [1, 2, 4], [2, 5, 7], [1, 1, 1]])\n",
    "point_set2 = np.array([[2, 3, 4], [5, 6, 4], [6, 7, 8],[-10, -10, -10], [-10, -10, -10]])\n",
    "predicted_labels = np.array([[1, 2], [1, 5], [2, 4]])\n",
    "true_labels = np.array([[0, 1], [0, 2], [1, 2], [3, 4], [4, 5],[2, 4], [1, 3], [-1, -1], [-1, -1]])\n",
    "predicted_edges_indices = predicted_labels.flatten()\n",
    "used_predicted_edges_indices = np.unique(predicted_edges_indices)\n",
    "point_set1 = point_set1[used_predicted_edges_indices]\n",
    "point_set2 = point_set2[np.sum(point_set2, -1, keepdims=False) > -10]\n",
    "index_mapping = {old_index: new_index for new_index, old_index in enumerate(used_predicted_edges_indices)}\n",
    "predicted_labels = np.vectorize(index_mapping.get)(predicted_labels)\n",
    "# Calculate the distance matrix\n",
    "distance_matrix = cdist(point_set1, point_set2)\n",
    "\n",
    "print(distance_matrix)\n",
    "row_indices, col_indices = linear_sum_assignment(distance_matrix)\n",
    "print(row_indices, col_indices)\n",
    "mask = distance_matrix[row_indices, col_indices]\n",
    "# print(mask)\n",
    "# print(mask < 6)\n",
    "mask = mask < 6\n",
    "print(mask)\n",
    "result_dict = {key: value for key, value in zip(row_indices[mask], col_indices[mask])}\n",
    "print(result_dict)\n",
    "for i, _ in enumerate(predicted_labels):\n",
    "    for j in range(2):\n",
    "        predicted_labels[i, j] = result_dict[predicted_labels[i, j]] if predicted_labels[i, j] in result_dict else -1\n",
    "    predicted_labels[i] = sorted(predicted_labels[i])\n",
    "    # if value[0] in result_dict:\n",
    "    #     print(result_dict[int(value[0])])\n",
    "    #     predicted_labels[i, 0] = result_dict[value[0]]\n",
    "    # else:\n",
    "    #     predicted_labels[i, 0] = -1\n",
    "        # print(result_dict[int(value[0])])\n",
    "print(predicted_labels)\n",
    "true_labels = true_labels[np.sum(true_labels, -1, keepdims=False) > 0]\n",
    "TP_edges = np.sum([np.any(np.all(e == true_labels, axis=1)) for e in predicted_labels])\n",
    "TP_FP = len(predicted_labels)\n",
    "TP_FN = len(true_labels)\n",
    "precision = TP_edges / TP_FP\n",
    "recall = TP_edges / TP_FN\n",
    "print(\"Precision:\", precision)\n",
    "print(\"Recall:\", recall)\n",
    "# print(true_labels)\n",
    "print()\n",
    "    # if result_dict[0]:\n",
    "    #     print(value)\n",
    "# print(row_indices[mask], col_indices[mask])\n",
    "# print(point_set1[row_indices[mask]])\n",
    "# print(point_set2[col_indices[mask]])\n",
    "tp_corners = len(row_indices[mask])\n",
    "tp_fp_corners = len(point_set1)\n",
    "tp_fn_corners = len(point_set2)\n",
    "print(\"corners Precision:\", tp_corners/tp_fp_corners)\n",
    "print(\"corners Recall:\", tp_corners/tp_fn_corners)\n"
   ],
   "metadata": {
    "collapsed": false,
    "ExecuteTime": {
     "start_time": "2023-08-19T00:35:07.772768Z",
     "end_time": "2023-08-19T00:35:07.792910Z"
    }
   }
  },
  {
   "cell_type": "code",
   "execution_count": 6,
   "outputs": [
    {
     "name": "stdout",
     "output_type": "stream",
     "text": [
      "[[ 0.          6.92820323 12.12435565]\n",
      " [ 5.19615242  1.73205081  6.92820323]\n",
      " [10.39230485  3.46410162  1.73205081]]\n",
      "[0.         1.73205081 1.73205081]\n",
      "1.1547005383792515\n"
     ]
    }
   ],
   "source": [
    "import numpy as np\n",
    "\n",
    "# Two sets of 3D points\n",
    "point_set1 = np.array([[1, 2, 3], [4, 5, 6], [7, 8, 9]])\n",
    "point_set2 = np.array([[1, 2, 3], [5, 6, 7], [8, 9, 10]])\n",
    "print(cdist(point_set1, point_set2))\n",
    "\n",
    "# Calculate the distance between each pair of points\n",
    "distances = np.linalg.norm((point_set1 + 2) - (point_set2 + 2), axis=1)\n",
    "\n",
    "print(distances)\n",
    "print(np.sum(distances) / 3)"
   ],
   "metadata": {
    "collapsed": false,
    "ExecuteTime": {
     "start_time": "2023-08-19T00:35:07.778836Z",
     "end_time": "2023-08-19T00:35:07.802856Z"
    }
   }
  },
  {
   "cell_type": "code",
   "execution_count": 7,
   "outputs": [
    {
     "name": "stdout",
     "output_type": "stream",
     "text": [
      "[[1 2 3]\n",
      " [7 8 9]\n",
      " [4 5 1]\n",
      " [5 3 2]]\n"
     ]
    }
   ],
   "source": [
    "import numpy as np\n",
    "\n",
    "predicted_corners = np.array([[1, 2, 3], [7, 8, 9], [4, 5, 1], [7, 8, 9],[5,3,2]])\n",
    "predicted_edges = np.array([[0, 2], [1, 2], [2, 4]])\n",
    "\n",
    "# 找到所有在 predicted_edges 中出现的索引值\n",
    "edge_indices = predicted_edges.flatten()\n",
    "\n",
    "# 找到 predicted_corners 中出现在 predicted_edges 中的索引值\n",
    "used_indices = np.unique(edge_indices)\n",
    "\n",
    "# 根据 used_indices 来筛选 predicted_corners\n",
    "predicted_corners = predicted_corners[used_indices]\n",
    "print(predicted_corners)\n",
    "# for i in range(len(predicted_corners)):\n",
    "#     if i not in used_indices:\n",
    "#         predicted_corners =\n",
    "#         print(i)\n",
    "# new_predicted_edges = np.delete(predicted_edges, 2, axis=0)\n",
    "\n"
   ],
   "metadata": {
    "collapsed": false,
    "ExecuteTime": {
     "start_time": "2023-08-19T00:35:07.798858Z",
     "end_time": "2023-08-19T00:35:07.809883Z"
    }
   }
  },
  {
   "cell_type": "markdown",
   "source": [],
   "metadata": {
    "collapsed": false
   }
  },
  {
   "cell_type": "code",
   "execution_count": 16,
   "outputs": [],
   "source": [
    "batch = {'batch_size': 1,\n",
    "         'predicted_corners': np.array([[[1, 2, 3], [7, 8, 9], [4, 5, 1], [7, 8, 9], [5,3,2], [1, 2, 4], [2, 5, 7], [1, 1, 1]]]),\n",
    "         'wf_vertices': np.array([[[2, 3, 4], [5, 6, 4], [6, 7, 8],[-10, -10, -10], [-10, -10, -10]]]),\n",
    "         'predicted_edges': np.array([[[1, 2], [1, 5], [5, 6], [2, 4]]]),\n",
    "         'wf_edges': np.array([[[0, 1], [0, 2], [1, 2], [3, 4], [4, 5],[2, 4], [1, 3], [-1, -1], [-1, -1]]]),\n",
    "         'predicted_score': np.array([[0.8, 0.8, 0.2, 1]]),\n",
    "           'centroid': np.array([[2, 2, 2]]),\n",
    "         'max_distance': np.array([[1]])}"
   ],
   "metadata": {
    "collapsed": false,
    "ExecuteTime": {
     "start_time": "2023-08-19T00:56:25.391663Z",
     "end_time": "2023-08-19T00:56:25.396673Z"
    }
   }
  },
  {
   "cell_type": "code",
   "execution_count": 18,
   "outputs": [
    {
     "name": "stdout",
     "output_type": "stream",
     "text": [
      "Average Corner offset 2.1542963867657905\n",
      "Corners Precision:  0.75\n",
      "Corners Recall:  1.0\n",
      "Corners F1： 0.8571428571428571\n",
      "Edges Precision:  0.6666666666666666\n",
      "Edges Recall:  0.2857142857142857\n",
      "Edges F1:  0.4\n"
     ]
    }
   ],
   "source": [
    "from ap_calculator import APCalculator\n",
    "AP = APCalculator(6)\n",
    "AP.compute_metrics(batch)\n",
    "AP.output_accuracy()"
   ],
   "metadata": {
    "collapsed": false
   }
  }
 ],
 "metadata": {
  "kernelspec": {
   "display_name": "Python 3",
   "language": "python",
   "name": "python3"
  },
  "language_info": {
   "codemirror_mode": {
    "name": "ipython",
    "version": 2
   },
   "file_extension": ".py",
   "mimetype": "text/x-python",
   "name": "python",
   "nbconvert_exporter": "python",
   "pygments_lexer": "ipython2",
   "version": "2.7.6"
  }
 },
 "nbformat": 4,
 "nbformat_minor": 0
}
