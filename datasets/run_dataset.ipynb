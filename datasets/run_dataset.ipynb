{
 "cells": [
  {
   "cell_type": "code",
   "execution_count": 1,
   "outputs": [
    {
     "name": "stdout",
     "output_type": "stream",
     "text": [
      "{'Building3D': {'root_dir': 'E:\\\\Building3D\\\\clear data\\\\Entry-level', 'num_points': 2560, 'use_color': True, 'use_intensity': True, 'normalize': True, 'augment': True}}\n"
     ]
    }
   ],
   "source": [
    "import os\n",
    "\n",
    "from datasets import build_dataset\n",
    "import yaml\n",
    "from easydict import EasyDict\n",
    "def cfg_from_yaml_file(cfg_file):\n",
    "    with open(cfg_file, 'r') as f:\n",
    "        try:\n",
    "            new_config = yaml.load(f, Loader=yaml.FullLoader)\n",
    "        except:\n",
    "            new_config = yaml.load(f)\n",
    "\n",
    "    cfg = EasyDict(new_config)\n",
    "    return cfg\n",
    "\n",
    "dataset_config = cfg_from_yaml_file('dataset_config.yaml')\n",
    "print(dataset_config)\n",
    "\n",
    "building3D_dataset = build_dataset(dataset_config.Building3D)\n",
    "# print(dir(building3D_dataset['train']))\n",
    "# print(building3D_dataset[\"test\"].wireframe_files)"
   ],
   "metadata": {
    "collapsed": false,
    "ExecuteTime": {
     "start_time": "2023-08-18T23:22:58.295032Z",
     "end_time": "2023-08-18T23:22:58.880742Z"
    }
   }
  },
  {
   "cell_type": "code",
   "execution_count": 2,
   "outputs": [
    {
     "name": "stdout",
     "output_type": "stream",
     "text": [
      "point_clouds  torch.Size([3, 2560, 8])\n",
      "wf_vertices torch.Size([3, 12, 3])\n",
      "wf_edges torch.Size([3, 15, 2])\n",
      "centroid torch.Size([3, 3])\n",
      "max_distance torch.Size([3])\n",
      "scan_idx torch.Size([3])\n",
      "tensor([[[  0.,   1.],\n",
      "         [  1.,   2.],\n",
      "         [  0.,   3.],\n",
      "         [  2.,   3.],\n",
      "         [-10., -10.],\n",
      "         [-10., -10.],\n",
      "         [-10., -10.],\n",
      "         [-10., -10.],\n",
      "         [-10., -10.],\n",
      "         [-10., -10.],\n",
      "         [-10., -10.],\n",
      "         [-10., -10.],\n",
      "         [-10., -10.],\n",
      "         [-10., -10.],\n",
      "         [-10., -10.]],\n",
      "\n",
      "        [[  0.,   1.],\n",
      "         [  9.,  10.],\n",
      "         [  2.,   4.],\n",
      "         [  3.,   8.],\n",
      "         [  4.,  10.],\n",
      "         [ 10.,  11.],\n",
      "         [  6.,   7.],\n",
      "         [  0.,   2.],\n",
      "         [  5.,   9.],\n",
      "         [  8.,   9.],\n",
      "         [  8.,  11.],\n",
      "         [  1.,   6.],\n",
      "         [  2.,  11.],\n",
      "         [  4.,   7.],\n",
      "         [  3.,   5.]],\n",
      "\n",
      "        [[  0.,   1.],\n",
      "         [  0.,   2.],\n",
      "         [  2.,   3.],\n",
      "         [  1.,   3.],\n",
      "         [-10., -10.],\n",
      "         [-10., -10.],\n",
      "         [-10., -10.],\n",
      "         [-10., -10.],\n",
      "         [-10., -10.],\n",
      "         [-10., -10.],\n",
      "         [-10., -10.],\n",
      "         [-10., -10.],\n",
      "         [-10., -10.],\n",
      "         [-10., -10.],\n",
      "         [-10., -10.]]])\n",
      "tensor([[5.4021e+05, 6.5833e+06, 4.9930e+01],\n",
      "        [5.4960e+05, 6.5914e+06, 2.8299e+01],\n",
      "        [5.4558e+05, 6.5880e+06, 4.7457e+01]])\n",
      "tensor([[[-2.7430e-01, -8.9856e-01,  2.7009e-02],\n",
      "         [-9.3668e-01, -4.0682e-01, -3.6416e-02],\n",
      "         [ 2.5561e-01,  1.0052e+00, -2.7897e-02],\n",
      "         [ 8.9826e-01,  4.6251e-01,  3.1960e-02],\n",
      "         [-1.0000e+01, -1.0000e+01, -1.0000e+01],\n",
      "         [-1.0000e+01, -1.0000e+01, -1.0000e+01],\n",
      "         [-1.0000e+01, -1.0000e+01, -1.0000e+01],\n",
      "         [-1.0000e+01, -1.0000e+01, -1.0000e+01],\n",
      "         [-1.0000e+01, -1.0000e+01, -1.0000e+01],\n",
      "         [-1.0000e+01, -1.0000e+01, -1.0000e+01],\n",
      "         [-1.0000e+01, -1.0000e+01, -1.0000e+01],\n",
      "         [-1.0000e+01, -1.0000e+01, -1.0000e+01]],\n",
      "\n",
      "        [[ 8.2214e-01,  2.3025e-01, -8.3642e-03],\n",
      "         [ 7.7118e-01, -5.7673e-01,  2.0798e-02],\n",
      "         [ 4.2916e-01,  2.5726e-01, -7.2124e-03],\n",
      "         [ 4.6552e-01,  8.0662e-01, -4.0890e-02],\n",
      "         [-1.0309e-01,  3.0620e-01, -6.0837e-03],\n",
      "         [-7.0060e-02,  8.4195e-01, -3.9254e-02],\n",
      "         [-9.0251e-01, -4.7036e-01,  1.2206e-02],\n",
      "         [-8.5035e-01,  3.5270e-01,  3.1995e-03],\n",
      "         [ 4.4819e-01,  5.6905e-01, -2.0041e-02],\n",
      "         [-7.7644e-02,  6.2161e-01, -1.6354e-02],\n",
      "         [-9.2376e-02,  4.1453e-01, -5.6766e-02],\n",
      "         [ 4.3537e-01,  3.7006e-01, -5.3823e-02]],\n",
      "\n",
      "        [[ 4.6366e-01, -9.0121e-01, -3.0345e-02],\n",
      "         [-9.2126e-01,  3.7722e-01, -2.7712e-02],\n",
      "         [ 9.2977e-01, -3.5194e-01,  2.7867e-02],\n",
      "         [-4.5632e-01,  8.7620e-01,  2.6276e-02],\n",
      "         [-1.0000e+01, -1.0000e+01, -1.0000e+01],\n",
      "         [-1.0000e+01, -1.0000e+01, -1.0000e+01],\n",
      "         [-1.0000e+01, -1.0000e+01, -1.0000e+01],\n",
      "         [-1.0000e+01, -1.0000e+01, -1.0000e+01],\n",
      "         [-1.0000e+01, -1.0000e+01, -1.0000e+01],\n",
      "         [-1.0000e+01, -1.0000e+01, -1.0000e+01],\n",
      "         [-1.0000e+01, -1.0000e+01, -1.0000e+01],\n",
      "         [-1.0000e+01, -1.0000e+01, -1.0000e+01]]])\n"
     ]
    }
   ],
   "source": [
    "from torch.utils.data import DataLoader\n",
    "train_loader = DataLoader(building3D_dataset['train'], batch_size=3, shuffle=True, drop_last=True, collate_fn=building3D_dataset['train'].collate_batch)\n",
    "for batch in train_loader:\n",
    "\n",
    "    print('point_clouds ', batch['point_clouds'].shape)\n",
    "    print('wf_vertices', batch['wf_vertices'].shape)\n",
    "    print('wf_edges', batch['wf_edges'].shape)\n",
    "    print('centroid', batch['centroid'].shape)\n",
    "    print('max_distance', batch['max_distance'].shape)\n",
    "    print('scan_idx', batch['scan_idx'].shape)\n",
    "    print(batch['wf_edges'])\n",
    "    print(batch['centroid'])\n",
    "    print(batch['wf_vertices'])\n",
    "    break"
   ],
   "metadata": {
    "collapsed": false,
    "ExecuteTime": {
     "start_time": "2023-08-18T23:22:58.882742Z",
     "end_time": "2023-08-18T23:22:59.705730Z"
    }
   }
  },
  {
   "cell_type": "code",
   "execution_count": 2,
   "outputs": [],
   "source": [],
   "metadata": {
    "collapsed": false,
    "ExecuteTime": {
     "start_time": "2023-08-18T23:22:59.707737Z",
     "end_time": "2023-08-18T23:22:59.748267Z"
    }
   }
  }
 ],
 "metadata": {
  "kernelspec": {
   "display_name": "Python 3",
   "language": "python",
   "name": "python3"
  },
  "language_info": {
   "codemirror_mode": {
    "name": "ipython",
    "version": 2
   },
   "file_extension": ".py",
   "mimetype": "text/x-python",
   "name": "python",
   "nbconvert_exporter": "python",
   "pygments_lexer": "ipython2",
   "version": "2.7.6"
  }
 },
 "nbformat": 4,
 "nbformat_minor": 0
}
