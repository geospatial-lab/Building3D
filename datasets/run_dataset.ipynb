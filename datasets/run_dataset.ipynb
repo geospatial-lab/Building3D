{
 "cells": [
  {
   "cell_type": "code",
   "execution_count": 10,
   "outputs": [],
   "source": [
    "from datasets import build_dataset"
   ],
   "metadata": {
    "collapsed": false,
    "ExecuteTime": {
     "start_time": "2023-08-11T23:08:56.169704Z",
     "end_time": "2023-08-11T23:08:56.659709Z"
    }
   }
  },
  {
   "cell_type": "code",
   "execution_count": 11,
   "outputs": [],
   "source": [
    "import yaml"
   ],
   "metadata": {
    "collapsed": false,
    "ExecuteTime": {
     "start_time": "2023-08-11T23:08:56.660217Z",
     "end_time": "2023-08-11T23:08:56.692806Z"
    }
   }
  },
  {
   "cell_type": "code",
   "execution_count": 12,
   "metadata": {
    "collapsed": true,
    "ExecuteTime": {
     "start_time": "2023-08-11T23:08:56.692806Z",
     "end_time": "2023-08-11T23:08:56.708680Z"
    }
   },
   "outputs": [],
   "source": [
    "from easydict import EasyDict"
   ]
  },
  {
   "cell_type": "code",
   "execution_count": 13,
   "outputs": [],
   "source": [
    "def cfg_from_yaml_file(cfg_file):\n",
    "    with open(cfg_file, 'r') as f:\n",
    "        try:\n",
    "            new_config = yaml.load(f, Loader=yaml.FullLoader)\n",
    "        except:\n",
    "            new_config = yaml.load(f)\n",
    "\n",
    "    cfg = EasyDict(new_config)\n",
    "    return cfg"
   ],
   "metadata": {
    "collapsed": false,
    "ExecuteTime": {
     "start_time": "2023-08-11T23:08:56.711682Z",
     "end_time": "2023-08-11T23:08:56.735443Z"
    }
   }
  },
  {
   "cell_type": "markdown",
   "source": [],
   "metadata": {
    "collapsed": false
   }
  },
  {
   "cell_type": "code",
   "execution_count": 14,
   "outputs": [
    {
     "name": "stdout",
     "output_type": "stream",
     "text": [
      "{'Building3D': {'root_dir': 'D:\\\\Supervised\\\\data\\\\Talinn', 'num_points': 2048, 'use_color': True, 'use_intensity': True, 'normalize': True, 'augment': False}}\n"
     ]
    }
   ],
   "source": [
    "dataset_config = cfg_from_yaml_file('dataset_config.yaml')\n",
    "print(dataset_config)"
   ],
   "metadata": {
    "collapsed": false,
    "ExecuteTime": {
     "start_time": "2023-08-11T23:08:56.737440Z",
     "end_time": "2023-08-11T23:08:56.737440Z"
    }
   }
  },
  {
   "cell_type": "markdown",
   "source": [],
   "metadata": {
    "collapsed": false
   }
  },
  {
   "cell_type": "code",
   "execution_count": 15,
   "outputs": [
    {
     "name": "stdout",
     "output_type": "stream",
     "text": [
      "[]\n"
     ]
    }
   ],
   "source": [
    "building3D_dataset = build_dataset(dataset_config.Building3D)\n",
    "# print(dir(building3D_dataset['train']))\n",
    "print(building3D_dataset[\"test\"].wireframe_files)"
   ],
   "metadata": {
    "collapsed": false,
    "ExecuteTime": {
     "start_time": "2023-08-11T23:08:56.739431Z",
     "end_time": "2023-08-11T23:08:56.784001Z"
    }
   }
  },
  {
   "cell_type": "code",
   "execution_count": 16,
   "outputs": [],
   "source": [
    "from torch.utils.data import DataLoader"
   ],
   "metadata": {
    "collapsed": false,
    "ExecuteTime": {
     "start_time": "2023-08-11T23:08:56.784512Z",
     "end_time": "2023-08-11T23:08:56.802058Z"
    }
   }
  },
  {
   "cell_type": "code",
   "execution_count": 17,
   "outputs": [
    {
     "name": "stdout",
     "output_type": "stream",
     "text": [
      "[5.38382990e+05 6.58749562e+06 1.20300000e+01 1.40625000e-01\n",
      " 1.60156250e-01 1.83593750e-01 1.60156250e-01 3.61090000e+04]\n",
      "D:\\Supervised\\data\\Talinn\\train\\xyz\\9520.xyz\n",
      "[-3.4670779e-01  6.2810034e-01 -5.1261537e-02  1.4062500e-01\n",
      "  1.6015625e-01  1.8359375e-01  1.6015625e-01  3.6109000e+04]\n",
      "[[-0.4869085   0.6919541  -0.05423213]\n",
      " [-0.6887114   0.23137538  0.15103002]\n",
      " [-0.33347479  0.6224992  -0.05423213]\n",
      " [-0.32259604  0.64653045 -0.06500398]\n",
      " [ 0.5879478  -0.3465291   0.15103002]\n",
      " [ 0.8026603   0.1408682  -0.06637823]\n",
      " [-0.89501745 -0.23947825 -0.05624491]\n",
      " [ 0.38622257 -0.8044454  -0.05073405]\n",
      " [-0.33347479  0.6224992  -0.39111635]\n",
      " [-0.3897397   0.6600272  -0.39510027]\n",
      " [-0.32259604  0.64653045 -0.4007083 ]\n",
      " [-0.30506402  0.8529767  -0.47171092]\n",
      " [ 0.6471902   0.45180836 -0.48160827]\n",
      " [ 0.55835015  0.24775387 -0.4007083 ]]\n",
      "tensor([0])\n"
     ]
    }
   ],
   "source": [
    "train_loader = DataLoader(building3D_dataset['train'], batch_size=1, shuffle=True, drop_last=True)\n",
    "for batch in train_loader:\n",
    "    print(batch)\n",
    "    break"
   ],
   "metadata": {
    "collapsed": false,
    "ExecuteTime": {
     "start_time": "2023-08-11T23:08:56.803569Z",
     "end_time": "2023-08-11T23:08:57.355639Z"
    }
   }
  },
  {
   "cell_type": "code",
   "execution_count": 18,
   "outputs": [
    {
     "name": "stdout",
     "output_type": "stream",
     "text": [
      "float64\n",
      "[[-0.52990782  0.34958143 -0.84292723]\n",
      " [ 1.40047065  1.01194625 -0.56195149]\n",
      " [-0.87056284 -1.36152768  1.40487872]]\n"
     ]
    }
   ],
   "source": [
    "import numpy as np\n",
    "\n",
    "# Assuming you have a point cloud represented as a NumPy array\n",
    "point_cloud = np.array([[535152.7100, 6581069.1400, 48.8000], [535152.8800, 6581069.7400, 48.8400], [535152.6800, 6581067.5900, 49.1200]], dtype=np.float64)\n",
    "\n",
    "# Calculate the mean and standard deviation along each axis\n",
    "mean = np.mean(point_cloud, axis=0)\n",
    "std = np.std(point_cloud, axis=0)\n",
    "\n",
    "# Normalize the point cloud by subtracting the mean and dividing by the standard deviation\n",
    "normalized_point_cloud = (point_cloud - mean) / std\n",
    "\n",
    "# Print the normalized point cloud\n",
    "print(normalized_point_cloud.dtype)\n",
    "print(normalized_point_cloud)"
   ],
   "metadata": {
    "collapsed": false,
    "ExecuteTime": {
     "start_time": "2023-08-11T23:08:57.357467Z",
     "end_time": "2023-08-11T23:08:57.372356Z"
    }
   }
  },
  {
   "cell_type": "code",
   "execution_count": 18,
   "outputs": [],
   "source": [],
   "metadata": {
    "collapsed": false,
    "ExecuteTime": {
     "start_time": "2023-08-11T23:08:57.372356Z",
     "end_time": "2023-08-11T23:08:57.415934Z"
    }
   }
  }
 ],
 "metadata": {
  "kernelspec": {
   "display_name": "Python 3",
   "language": "python",
   "name": "python3"
  },
  "language_info": {
   "codemirror_mode": {
    "name": "ipython",
    "version": 2
   },
   "file_extension": ".py",
   "mimetype": "text/x-python",
   "name": "python",
   "nbconvert_exporter": "python",
   "pygments_lexer": "ipython2",
   "version": "2.7.6"
  }
 },
 "nbformat": 4,
 "nbformat_minor": 0
}