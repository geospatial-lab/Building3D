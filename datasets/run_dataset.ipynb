{
 "cells": [
  {
   "cell_type": "code",
   "execution_count": 6,
   "outputs": [
    {
     "name": "stdout",
     "output_type": "stream",
     "text": [
      "{'Building3D': {'root_dir': 'E:/Building3D/clear data/Entry-level', 'num_points': 2560, 'use_color': True, 'use_intensity': True, 'normalize': True, 'augment': True}}\n"
     ]
    }
   ],
   "source": [
    "import os\n",
    "\n",
    "from datasets import build_dataset\n",
    "import yaml\n",
    "from easydict import EasyDict\n",
    "def cfg_from_yaml_file(cfg_file):\n",
    "    with open(cfg_file, 'r') as f:\n",
    "        try:\n",
    "            new_config = yaml.load(f, Loader=yaml.FullLoader)\n",
    "        except:\n",
    "            new_config = yaml.load(f)\n",
    "\n",
    "    cfg = EasyDict(new_config)\n",
    "    return cfg\n",
    "\n",
    "dataset_config = cfg_from_yaml_file('dataset_config.yaml')\n",
    "print(dataset_config)\n",
    "\n",
    "building3D_dataset = build_dataset(dataset_config.Building3D)\n",
    "# print(dir(building3D_dataset['train']))\n",
    "# print(building3D_dataset[\"test\"].wireframe_files)"
   ],
   "metadata": {
    "collapsed": false,
    "ExecuteTime": {
     "start_time": "2024-02-14T16:51:30.418390Z",
     "end_time": "2024-02-14T16:51:41.987531Z"
    }
   }
  },
  {
   "cell_type": "code",
   "execution_count": 2,
   "outputs": [],
   "source": [
    "from torch.utils.data import DataLoader\n",
    "train_loader = DataLoader(building3D_dataset['train'], batch_size=3, shuffle=True, drop_last=True, collate_fn=building3D_dataset['train'].collate_batch)\n",
    "for batch in train_loader:\n",
    "\n",
    "    print('point_clouds ', batch['point_clouds'].shape)\n",
    "    print('wf_vertices', batch['wf_vertices'].shape)\n",
    "    print('wf_edges', batch['wf_edges'].shape)\n",
    "    print('centroid', batch['centroid'].shape)\n",
    "    print('max_distance', batch['max_distance'].shape)\n",
    "    print('scan_idx', batch['scan_idx'].shape)\n",
    "    print(batch['wf_edges'])\n",
    "    print(batch['centroid'])\n",
    "    print(batch['wf_vertices'])\n",
    "    break"
   ],
   "metadata": {
    "collapsed": false,
    "ExecuteTime": {
     "start_time": "2023-08-18T23:22:59.707737Z",
     "end_time": "2023-08-18T23:22:59.748267Z"
    }
   }
  }
 ],
 "metadata": {
  "kernelspec": {
   "display_name": "Python 3",
   "language": "python",
   "name": "python3"
  },
  "language_info": {
   "codemirror_mode": {
    "name": "ipython",
    "version": 2
   },
   "file_extension": ".py",
   "mimetype": "text/x-python",
   "name": "python",
   "nbconvert_exporter": "python",
   "pygments_lexer": "ipython2",
   "version": "2.7.6"
  }
 },
 "nbformat": 4,
 "nbformat_minor": 0
}
